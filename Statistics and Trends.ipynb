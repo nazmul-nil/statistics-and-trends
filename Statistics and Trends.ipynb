{
 "cells": [
  {
   "cell_type": "markdown",
   "id": "6c15efea",
   "metadata": {},
   "source": [
    "# Statistics and Trends Assignment\n",
    "\n",
    "## Applied Data Science 1\n",
    "\n",
    "### Module Leader: Dr. William Cooper\n",
    "\n",
    "## Report by:\n",
    "- **Name:** Nazmul Hossain\n",
    "- **Student ID:** 23015862\n",
    "- **GitHub Repository:** [nazmul-nil/statistics-and-trends](https://github.com/nazmul-nil/statistics-and-trends)\n"
   ]
  },
  {
   "cell_type": "markdown",
   "id": "d937be92",
   "metadata": {},
   "source": [
    "## Project overview\n",
    "\n",
    "This is a project report on Consumer Behavior and Shopping Habits (Zeesolver, 2022). With this dataset we can find answers of what people buy and why. We can get a relationship between people's age and choices of things, purchasing amount, their color choices, subscription status, frequency of purchases and a bunch of other things. \n",
    "\n",
    "By analising this data, we can learn why people choose certain things. Whether it's clothes, shoes, or other stuff, this data helps us understand why we make the choices we do when we shop."
   ]
  },
  {
   "cell_type": "markdown",
   "id": "ba6d937a",
   "metadata": {},
   "source": [
    "## First let's import the necessary libraries"
   ]
  },
  {
   "cell_type": "code",
   "execution_count": 12,
   "id": "e7550982",
   "metadata": {},
   "outputs": [],
   "source": [
    "import numpy as np\n",
    "import pandas as pd\n",
    "import matplotlib.pyplot as plt\n",
    "import seaborn as sns"
   ]
  },
  {
   "cell_type": "markdown",
   "id": "643df39a",
   "metadata": {},
   "source": [
    "## Let's read dataframe using pandas "
   ]
  },
  {
   "cell_type": "code",
   "execution_count": 13,
   "id": "80caacb5",
   "metadata": {},
   "outputs": [],
   "source": [
    "# Set the Customer ID as the index column\n",
    "df = pd.read_csv(\"archive/shopping_trends.csv\", index_col = \"Customer ID\")\n",
    "\n",
    "# print the first 5 rows(head) and try to get some insight\n",
    "# df.head()"
   ]
  },
  {
   "cell_type": "code",
   "execution_count": 14,
   "id": "877b3b69",
   "metadata": {},
   "outputs": [
    {
     "data": {
      "text/html": [
       "<div>\n",
       "<style scoped>\n",
       "    .dataframe tbody tr th:only-of-type {\n",
       "        vertical-align: middle;\n",
       "    }\n",
       "\n",
       "    .dataframe tbody tr th {\n",
       "        vertical-align: top;\n",
       "    }\n",
       "\n",
       "    .dataframe thead th {\n",
       "        text-align: right;\n",
       "    }\n",
       "</style>\n",
       "<table border=\"1\" class=\"dataframe\">\n",
       "  <thead>\n",
       "    <tr style=\"text-align: right;\">\n",
       "      <th></th>\n",
       "      <th>Age</th>\n",
       "      <th>Purchase Amount (USD)</th>\n",
       "      <th>Review Rating</th>\n",
       "      <th>Previous Purchases</th>\n",
       "    </tr>\n",
       "  </thead>\n",
       "  <tbody>\n",
       "    <tr>\n",
       "      <th>count</th>\n",
       "      <td>3900.000000</td>\n",
       "      <td>3900.000000</td>\n",
       "      <td>3900.000000</td>\n",
       "      <td>3900.000000</td>\n",
       "    </tr>\n",
       "    <tr>\n",
       "      <th>mean</th>\n",
       "      <td>44.068462</td>\n",
       "      <td>59.764359</td>\n",
       "      <td>3.749949</td>\n",
       "      <td>25.351538</td>\n",
       "    </tr>\n",
       "    <tr>\n",
       "      <th>std</th>\n",
       "      <td>15.207589</td>\n",
       "      <td>23.685392</td>\n",
       "      <td>0.716223</td>\n",
       "      <td>14.447125</td>\n",
       "    </tr>\n",
       "    <tr>\n",
       "      <th>min</th>\n",
       "      <td>18.000000</td>\n",
       "      <td>20.000000</td>\n",
       "      <td>2.500000</td>\n",
       "      <td>1.000000</td>\n",
       "    </tr>\n",
       "    <tr>\n",
       "      <th>25%</th>\n",
       "      <td>31.000000</td>\n",
       "      <td>39.000000</td>\n",
       "      <td>3.100000</td>\n",
       "      <td>13.000000</td>\n",
       "    </tr>\n",
       "    <tr>\n",
       "      <th>50%</th>\n",
       "      <td>44.000000</td>\n",
       "      <td>60.000000</td>\n",
       "      <td>3.700000</td>\n",
       "      <td>25.000000</td>\n",
       "    </tr>\n",
       "    <tr>\n",
       "      <th>75%</th>\n",
       "      <td>57.000000</td>\n",
       "      <td>81.000000</td>\n",
       "      <td>4.400000</td>\n",
       "      <td>38.000000</td>\n",
       "    </tr>\n",
       "    <tr>\n",
       "      <th>max</th>\n",
       "      <td>70.000000</td>\n",
       "      <td>100.000000</td>\n",
       "      <td>5.000000</td>\n",
       "      <td>50.000000</td>\n",
       "    </tr>\n",
       "  </tbody>\n",
       "</table>\n",
       "</div>"
      ],
      "text/plain": [
       "               Age  Purchase Amount (USD)  Review Rating  Previous Purchases\n",
       "count  3900.000000            3900.000000    3900.000000         3900.000000\n",
       "mean     44.068462              59.764359       3.749949           25.351538\n",
       "std      15.207589              23.685392       0.716223           14.447125\n",
       "min      18.000000              20.000000       2.500000            1.000000\n",
       "25%      31.000000              39.000000       3.100000           13.000000\n",
       "50%      44.000000              60.000000       3.700000           25.000000\n",
       "75%      57.000000              81.000000       4.400000           38.000000\n",
       "max      70.000000             100.000000       5.000000           50.000000"
      ]
     },
     "execution_count": 14,
     "metadata": {},
     "output_type": "execute_result"
    }
   ],
   "source": [
    "# Find some basic statistics of the numerical data series from our dataframe\n",
    "df.describe()"
   ]
  },
  {
   "cell_type": "code",
   "execution_count": 15,
   "id": "51b6414d",
   "metadata": {},
   "outputs": [
    {
     "data": {
      "text/html": [
       "<div>\n",
       "<style scoped>\n",
       "    .dataframe tbody tr th:only-of-type {\n",
       "        vertical-align: middle;\n",
       "    }\n",
       "\n",
       "    .dataframe tbody tr th {\n",
       "        vertical-align: top;\n",
       "    }\n",
       "\n",
       "    .dataframe thead th {\n",
       "        text-align: right;\n",
       "    }\n",
       "</style>\n",
       "<table border=\"1\" class=\"dataframe\">\n",
       "  <thead>\n",
       "    <tr style=\"text-align: right;\">\n",
       "      <th></th>\n",
       "      <th>Age</th>\n",
       "      <th>Purchase Amount (USD)</th>\n",
       "    </tr>\n",
       "  </thead>\n",
       "  <tbody>\n",
       "    <tr>\n",
       "      <th>Age</th>\n",
       "      <td>1.000000</td>\n",
       "      <td>-0.010424</td>\n",
       "    </tr>\n",
       "    <tr>\n",
       "      <th>Purchase Amount (USD)</th>\n",
       "      <td>-0.010424</td>\n",
       "      <td>1.000000</td>\n",
       "    </tr>\n",
       "  </tbody>\n",
       "</table>\n",
       "</div>"
      ],
      "text/plain": [
       "                            Age  Purchase Amount (USD)\n",
       "Age                    1.000000              -0.010424\n",
       "Purchase Amount (USD) -0.010424               1.000000"
      ]
     },
     "execution_count": 15,
     "metadata": {},
     "output_type": "execute_result"
    }
   ],
   "source": [
    "# Make a sub dataframe with only two columns: Age and Purchase Amount(USD)\n",
    "\n",
    "sub_dataframe = df[['Age', 'Purchase Amount (USD)']]\n",
    "sub_dataframe.corr(method='pearson')"
   ]
  },
  {
   "cell_type": "markdown",
   "id": "9e0c249c",
   "metadata": {},
   "source": [
    "**Correlation Coefficient (Pearson):**\n",
    "   - The correlation coefficient measures the strength and direction of the linear relationship between two variables. (Mukaka, 2012)\n",
    "   \n",
    "From the correlation matrix found from our two variables Age and Purchase Amount(USD):\n",
    "\n",
    "\n",
    "   - For the 'Age' and 'Purchase Amount (USD)' variables, the correlation coefficient is approximately -0.0104.\n",
    "   - A correlation coefficient close to 0 indicates a weak linear relationship between the variables. (Székely et al., 2007)\n",
    "\n",
    "   - The negative correlation coefficient suggests a slight negative linear relationship between age and purchase amount. (Mukaka, 2012)\n",
    "   - However, in our case the correlation is very close to zero. Which indicats that the relationship between age and purchase amount is extremely weak.\n",
    "   - We can say that, there is very little predictable relationship between a person's age and the amount they spend on purchases.\n",
    "\n",
    "**Conclusion:**\n",
    "   -We can draw a conclusion that age does not have a significant impact on the purchase amount based on this correlation analysis.\n"
   ]
  },
  {
   "cell_type": "markdown",
   "id": "3e41e24d",
   "metadata": {},
   "source": [
    "## Let's build some functions and do some visualisations"
   ]
  },
  {
   "cell_type": "code",
   "execution_count": 24,
   "id": "5eb9fad1",
   "metadata": {},
   "outputs": [],
   "source": [
    "def age_purchase_amount_hist(df_age, df_purchase_amount):\n",
    "    \"\"\"This function will plot a histogram of purchasing amount of consumers vs their age\"\"\"\n",
    "    \n",
    "    # Initialize figures with 2 subplots in a single row\n",
    "    fig, axs = plt.subplots(1, 2, dpi=50)\n",
    "    \n",
    "    axs = axs.flatten()\n",
    "    \n",
    "    subdata_series = [df_age, df_purchase_amount]\n",
    "    \n",
    "    colors = ['green', 'salmon']\n",
    "    \n",
    "    # Labels for the axes\n",
    "    xlabels = ['Age', 'Purchase Amount (USD)']\n",
    "    \n",
    "    for i, ax in enumerate(axs):\n",
    "            #Plots the histogram\n",
    "            ax.hist(subdata_series[i], color=colors[i], bins=50)\n",
    "            \n",
    "            # Set label for the axes and title for each of the plot\n",
    "            ax.set_xlabel(xlabels[i])\n",
    "            ax.set_ylabel('Frequency')\n",
    "            ax.set_title('Histograms for ' + xlabels[i])\n",
    "    \n",
    "    # Adjust spacing between the subplots and set title in the middle\n",
    "    plt.subplots_adjust(wspace=0.5)\n",
    "    fig.suptitle('Histograms for Age and Purchase Amount (USD)', fontsize=16, y=1.05)\n",
    "        \n",
    "    return"
   ]
  },
  {
   "cell_type": "code",
   "execution_count": 25,
   "id": "0b24a260",
   "metadata": {},
   "outputs": [
    {
     "data": {
      "image/png": "[encoded data removed]",
      "text/plain": [
       "<Figure size 320x240 with 2 Axes>"
      ]
     },
     "metadata": {},
     "output_type": "display_data"
    }
   ],
   "source": [
    "# Make sub data series from the Age and Purchase Amount (USD) columns of our dataframe\n",
    "df_age = df['Age']\n",
    "df_purchase_amount = df['Purchase Amount (USD)']\n",
    "\n",
    "age_purchase_amount_hist(df_age, df_purchase_amount)"
   ]
  },
  {
   "cell_type": "code",
   "execution_count": 22,
   "id": "b590859d",
   "metadata": {},
   "outputs": [],
   "source": [
    "# Create a pie chart of Subscription Status\n",
    "\n",
    "def subscription_counts_pie(subscription_counts):\n",
    "    \"\"\"This function will show the number of subscriptions in a pie chart\"\"\"\n",
    "    \n",
    "    # Initialize a figure\n",
    "    plt.subplots(dpi=50)\n",
    "    \n",
    "    # Plot the pie chart\n",
    "    plt.pie(subscription_counts, labels=subscription_counts.index, autopct='%1.1f%%', colors=['lightgreen', 'lightcoral'])\n",
    "    \n",
    "    # Set the title for the plot\n",
    "    plt.title('Pie Chart of Subscription Status')\n",
    "    plt.show()\n",
    "    return"
   ]
  },
  {
   "cell_type": "code",
   "execution_count": 23,
   "id": "7c8f2c56",
   "metadata": {},
   "outputs": [
    {
     "data": {
      "image/png": "[encoded data removed]",
      "text/plain": [
       "<Figure size 320x240 with 1 Axes>"
      ]
     },
     "metadata": {},
     "output_type": "display_data"
    }
   ],
   "source": [
    "subscription_counts = df['Subscription Status'].value_counts()\n",
    "\n",
    "subscription_counts_pie(subscription_counts)"
   ]
  },
  {
   "cell_type": "code",
   "execution_count": 20,
   "id": "f0e223cd",
   "metadata": {},
   "outputs": [],
   "source": [
    "def age_vs_purchase_amount_scatter(df_age, df_purchase_amount):\n",
    "    \"\"\"This function will plot a scatter plot of purchasing amount of consumers vs their age\"\"\"\n",
    "    \n",
    "    # Initialize a figure\n",
    "    fig, ax = plt.subplots(dpi=50)\n",
    "    \n",
    "    ax.scatter(df_age, df_purchase_amount)\n",
    "    \n",
    "    # Set the label for x-axis and y-axis\n",
    "    ax.set_xlabel('Age')\n",
    "    ax.set_ylabel('Purchase Amount (USD)')\n",
    "    \n",
    "    # Set the title for the plot\n",
    "    ax.set_title('Scatter Plot of Purchase Amount vs Age')\n",
    "    plt.show()\n",
    "    return"
   ]
  },
  {
   "cell_type": "code",
   "execution_count": 21,
   "id": "b545c69d",
   "metadata": {
    "scrolled": true
   },
   "outputs": [
    {
     "data": {
      "image/png": "[encoded data removed]",
      "text/plain": [
       "<Figure size 320x240 with 1 Axes>"
      ]
     },
     "metadata": {},
     "output_type": "display_data"
    }
   ],
   "source": [
    "age_vs_purchase_amount_scatter(df_age, df_purchase_amount)"
   ]
  },
  {
   "cell_type": "code",
   "execution_count": 28,
   "id": "e263f19b",
   "metadata": {},
   "outputs": [
    {
     "data": {
      "image/png": "[encoded data removed]",
      "text/plain": [
       "<Figure size 320x240 with 2 Axes>"
      ]
     },
     "metadata": {},
     "output_type": "display_data"
    },
    {
     "data": {
      "image/png": "[encoded data removed]",
      "text/plain": [
       "<Figure size 320x240 with 2 Axes>"
      ]
     },
     "metadata": {},
     "output_type": "display_data"
    }
   ],
   "source": [
    "\n",
    "sub_dataframe = df[['Age', 'Purchase Amount (USD)',]]\n",
    "sub_dataframe.corr(method='pearson')\n",
    "\n",
    "def age_purchase_corr_heatmap(sub_dataframe, method):\n",
    "    \"\"\"This function will draw us a heatmap using seaborn package \n",
    "    about correlation between different people of age and their purchasing amount \n",
    "    \"\"\"\n",
    "        \n",
    "    # Initialize a figure\n",
    "    \n",
    "    fig, ax = plt.subplots(dpi=50)\n",
    "    \n",
    "    # Plots the heatmap of the correlation between the variables Age and Purchase Amount (USD)\n",
    "    sns.heatmap(sub_dataframe.corr(method = method), ax = ax, annot=True)\n",
    "   ,\n",
    "    plt.title(method.capitalize() + \" Correlation\")\n",
    "        \n",
    "    plt.show()\n",
    "\n",
    "    return\n",
    "\n",
    "age_purchase_corr_heatmap(sub_dataframe, 'pearson')\n",
    "\n",
    "age_purchase_corr_heatmap(sub_dataframe, 'kendall')\n",
    "\n",
    "# (Dr. William Cooper, 2024)"
   ]
  },
  {
   "cell_type": "markdown",
   "id": "be6a5878",
   "metadata": {},
   "source": [
    "### Reference list\n",
    "Zeesolver. (2022). Consumer Behavior and Shopping Habits Dataset. Kaggle. https://www.kaggle.com/datasets/zeesolver/consumer-behavior-and-shopping-habits-dataset\n",
    "\n",
    "Mukaka, M.M., 2012. A guide to appropriate use of correlation coefficient in medical research. Malawi medical journal, 24(3), pp.69-71.\n",
    "\n",
    " Székely, G. J. Rizzo; Bakirov, N. K. (2007). \"Measuring and testing independence by correlation of distances\". Annals of Statistics. 35 (6): 2769–2794. arXiv:0803.4101. doi:10.1214/009053607000000505. S2CID 5661488.\n",
    " \n",
    " Dr W. Cooper, 2024. \"Basic Statistics and Statistical Graphs\". https://herts.instructure.com/courses/112173/pages/week-3-lecture-slash-tutorial-notes?module_item_id=3634554"
   ]
  }
 ],
 "metadata": {
  "kernelspec": {
   "display_name": "Python 3 (ipykernel)",
   "language": "python",
   "name": "python3"
  },
  "language_info": {
   "codemirror_mode": {
    "name": "ipython",
    "version": 3
   },
   "file_extension": ".py",
   "mimetype": "text/x-python",
   "name": "python",
   "nbconvert_exporter": "python",
   "pygments_lexer": "ipython3",
   "version": "3.11.5"
  }
 },
 "nbformat": 4,
 "nbformat_minor": 5
}
